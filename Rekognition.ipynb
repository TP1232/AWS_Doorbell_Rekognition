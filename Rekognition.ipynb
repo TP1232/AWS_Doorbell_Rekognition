{
 "cells": [
  {
   "cell_type": "markdown",
   "id": "67a84c3b",
   "metadata": {},
   "source": [
    "Face Detection using Cascade Classiier "
   ]
  },
  {
   "cell_type": "code",
   "execution_count": 1,
   "id": "aa165ee6",
   "metadata": {},
   "outputs": [],
   "source": [
    "import cv2\n",
    "import time\n",
    "\n",
    "\n",
    "# Load the cascade\n",
    "face_cascade = cv2.CascadeClassifier('haarcascade_frontalface_default.xml')\n",
    "\n",
    "# To capture video from webcam.\n",
    "cap = cv2.VideoCapture(0)"
   ]
  },
  {
   "cell_type": "code",
   "execution_count": 2,
   "id": "43af40ce",
   "metadata": {},
   "outputs": [
    {
     "name": "stdout",
     "output_type": "stream",
     "text": [
      "Processing image...\n",
      "Processing image...\n",
      "Processing image...\n",
      "Image Captured\n",
      "Image saved Successfully on Local Drive\n"
     ]
    }
   ],
   "source": [
    "while True:\n",
    "    # Read the frame\n",
    "    _, img = cap.read()\n",
    "\n",
    "    # Convert to grayscale\n",
    "    gray = cv2.cvtColor(img, cv2.COLOR_BGR2GRAY)\n",
    "\n",
    "    # Detect the faces\n",
    "    faces = face_cascade.detectMultiScale(gray, 1.1, 4)\n",
    "\n",
    "    # Draw the rectangle around each face\n",
    "    for (x, y, w, h) in faces:\n",
    "        cv2.rectangle(img, (x, y), (x + w, y + h), (255, 0, 0), 2)\n",
    "            \n",
    "    # check after every 5 seconds\n",
    "    time.sleep(5)\n",
    "    # Display\n",
    "    k = cv2.waitKey(30) & 0xff\n",
    "    cv2.imshow('img', img)\n",
    "    \n",
    "    print(\"Processing image...\")\n",
    "    \n",
    "    # Stop if escape key is pressed\n",
    "    if k == 27:\n",
    "        break\n",
    "        \n",
    "    if k == ord('s'):\n",
    "        \n",
    "        cv2.imwrite(filename='saved_img2.jpg', img=img)\n",
    "        img_new = cv2.imread('saved_img.jpg', cv2.IMREAD_GRAYSCALE)\n",
    "        img_new = cv2.imshow(\"Captured Image\", img_new)\n",
    "        print(\"Image Captured\")\n",
    "        cv2.waitKey(1650)\n",
    "        cv2.destroyAllWindows()\n",
    "        print(\"Image saved Successfully on Local Drive\")\n",
    "        break\n",
    "        \n"
   ]
  },
  {
   "cell_type": "markdown",
   "id": "44abd099",
   "metadata": {},
   "source": [
    "![Result](https://github.com/TP1232/AWS_Doorbell_Rekognition/blob/main/img/Door.png?raw=true)"
   ]
  },
  {
   "cell_type": "code",
   "execution_count": 3,
   "id": "db52805c",
   "metadata": {},
   "outputs": [],
   "source": [
    "# Release the VideoCapture object\n",
    "cap.release()"
   ]
  },
  {
   "cell_type": "markdown",
   "id": "c5a1c7b8",
   "metadata": {},
   "source": [
    "### AWS Command Line Interface"
   ]
  },
  {
   "cell_type": "code",
   "execution_count": 4,
   "id": "a59564f0",
   "metadata": {},
   "outputs": [],
   "source": [
    "import logging\n",
    "import boto3\n",
    "from botocore.exceptions import ClientError\n",
    "import os"
   ]
  },
  {
   "cell_type": "markdown",
   "id": "6d37cbac",
   "metadata": {},
   "source": [
    "Uploding Image to S3 Bucket"
   ]
  },
  {
   "cell_type": "code",
   "execution_count": 5,
   "id": "558981c4",
   "metadata": {},
   "outputs": [],
   "source": [
    "def upload_file(file_name, bucket, object_name=None):\n",
    "    \"\"\"Upload a file to an S3 bucket\n",
    "\n",
    "    :param file_name: File to upload\n",
    "    :param bucket: Bucket to upload to\n",
    "    :param object_name: S3 object name. If not specified then file_name is used\n",
    "    :return: True if file was uploaded, else False\n",
    "    \"\"\"\n",
    "\n",
    "    # If S3 object_name was not specified, use file_name\n",
    "    if object_name is None:\n",
    "        object_name = os.path.basename(file_name)\n",
    "\n",
    "    # Upload the file\n",
    "    s3_client = boto3.client('s3')\n",
    "    try:\n",
    "        response = s3_client.upload_file(file_name, bucket, object_name)\n",
    "    except ClientError as e:\n",
    "        logging.error(e)\n",
    "        return False\n",
    "    return True"
   ]
  },
  {
   "cell_type": "code",
   "execution_count": 6,
   "id": "1470edac",
   "metadata": {},
   "outputs": [
    {
     "name": "stdout",
     "output_type": "stream",
     "text": [
      "Captured image is successfully uploaded on s3 bucket\n"
     ]
    }
   ],
   "source": [
    "client = boto3.client('s3', region_name='us-east-1')\n",
    "#image uploading\n",
    "client.upload_file('saved_img.jpg', 'trail-project', 'at_door2.jpg')\n",
    "\n",
    "print('Captured image is successfully uploaded on s3 bucket')"
   ]
  },
  {
   "cell_type": "code",
   "execution_count": 7,
   "id": "dcfa1277",
   "metadata": {},
   "outputs": [],
   "source": [
    "#Facial Comparison\n",
    "import boto3\n",
    "from pprint import pprint\n",
    "\n",
    "client = boto3.client('rekognition')"
   ]
  },
  {
   "cell_type": "markdown",
   "id": "dcb0110b",
   "metadata": {},
   "source": [
    "Comparison Between Source Image and Target Image"
   ]
  },
  {
   "cell_type": "markdown",
   "id": "901ac6b8",
   "metadata": {},
   "source": [
    "![Input](https://github.com/TP1232/AWS_Doorbell_Rekognition/blob/main/img/Compare.JPG?raw=true)"
   ]
  },
  {
   "cell_type": "code",
   "execution_count": 8,
   "id": "42d7076e",
   "metadata": {},
   "outputs": [
    {
     "name": "stdout",
     "output_type": "stream",
     "text": [
      "Matched With 99.99792% Similarity\n",
      "With 99.99921% Confidence\n",
      "Matched\n"
     ]
    }
   ],
   "source": [
    "import boto3\n",
    "\n",
    "#Selecting captured Image and Comparing with Targeted Image\n",
    "def face_comparision(value):\n",
    "    client = boto3.client('rekognition','us-east-1')   #us-east-1 will be the region of our database bucket\n",
    "    response = client.compare_faces(\n",
    "        SourceImage={\n",
    "            'S3Object': {\n",
    "                'Bucket': 'trail-project',                #datacompare will be name of database of s3 bucket\n",
    "                'Name': 'at_door.jpg'\n",
    "            }\n",
    "        },\n",
    "        TargetImage={\n",
    "            'S3Object': {\n",
    "                'Bucket': 'cvproject99-s3',\n",
    "                'Name': 'default.jpg'\n",
    "            }\n",
    "        },SimilarityThreshold=value\n",
    "\n",
    "    )\n",
    "    return (response)\n",
    "response = face_comparision(90)\n",
    "for record in face_comparision(0)['FaceMatches']:\n",
    "    face = record\n",
    "    confidence = face['Face']\n",
    "\n",
    "    print(\"Matched With {:.5f}\"\"%\"\" Similarity\".format(face['Similarity']))\n",
    "    print(\"With {:.5f}\"\"%\"\" Confidence\".format(confidence['Confidence']))\n",
    "\n",
    "    c = float(format(face['Similarity']))\n",
    "\n",
    "\n",
    "    if(c > 95):{\n",
    "            print(\"Matched\")\n",
    "        }\n",
    "    else:\n",
    "        print(\"Not a match\")\n",
    "match = len(response['FaceMatches'])\n",
    "total_people =  len(response['UnmatchedFaces'])+len(response['FaceMatches'])\n",
    "if (len(response['UnmatchedFaces'])>1):\n",
    "    print(total_people,' Out of',len(response['FaceMatches']),'Persons got matched')"
   ]
  },
  {
   "cell_type": "markdown",
   "id": "ca186d8a",
   "metadata": {},
   "source": [
    "![Result](https://cvproject99-s3.s3.amazonaws.com/result.JPG)"
   ]
  },
  {
   "cell_type": "code",
   "execution_count": 9,
   "id": "88c89390",
   "metadata": {},
   "outputs": [],
   "source": [
    "#Facial Analysis\n",
    "import boto3\n",
    "from pprint import pprint\n",
    "\n",
    "client = boto3.client('rekognition')"
   ]
  },
  {
   "cell_type": "code",
   "execution_count": 10,
   "id": "7a2072c3",
   "metadata": {
    "scrolled": true
   },
   "outputs": [
    {
     "name": "stdout",
     "output_type": "stream",
     "text": [
      "Gender : Male , appears to be 99.93% \n",
      "Age Range : 13 - 25 years old\n",
      "Smilling : 99.44%\n",
      "Eyeglasses : False\n",
      "MouthOpen : False\n",
      "EyesOpen : True\n"
     ]
    }
   ],
   "source": [
    "#Facial Analysis and Details \n",
    "# Import libraries\n",
    "import json\n",
    "\n",
    "# Specify bucket name and image key name\n",
    "image_name = 'default.jpg'\n",
    "bucket_name = 'cvproject99-s3'\n",
    "\n",
    "# Invoke rekognition face\n",
    "response = client.detect_faces(Image={'S3Object':{'Bucket':bucket_name, 'Name':image_name}}, Attributes=['ALL'])\n",
    "\n",
    "\n",
    "for record in response['FaceDetails']:\n",
    "    data = record\n",
    "    confidence = face['Face']\n",
    "\n",
    "    print(\"Gender :\",record.get('Gender').get('Value'),\", appears to be {:.2f}\"\"%\"\" \".format(record.get('Gender').get('Confidence')))\n",
    "    \n",
    "    print(\"Age Range :\",record.get('AgeRange').get('Low'),'-',record.get('AgeRange').get('High'),'years old')\n",
    "    \n",
    "    print('Smilling : {:.2f}%'.format(record.get('Smile').get('Confidence')))\n",
    "    \n",
    "    print('Eyeglasses :',record.get('Eyeglasses').get('Value'))\n",
    "    \n",
    "    print('MouthOpen :',record.get('MouthOpen').get('Value'))\n",
    "    \n",
    "    print('EyesOpen :',record.get('EyesOpen').get('Value'))\n"
   ]
  },
  {
   "cell_type": "markdown",
   "id": "ec2ef170",
   "metadata": {},
   "source": [
    "![Analysis](https://github.com/TP1232/AWS_Doorbell_Rekognition/blob/main/img/analysis.JPG?raw=true)"
   ]
  },
  {
   "cell_type": "code",
   "execution_count": 11,
   "id": "10bfff14",
   "metadata": {},
   "outputs": [
    {
     "name": "stdout",
     "output_type": "stream",
     "text": [
      "Gender : Female , appears to be 99.70% \n",
      "Age Range : 23 - 35 years old\n",
      "Smilling : 84.80%\n",
      "Eyeglasses : False\n",
      "MouthOpen : False\n",
      "EyesOpen : False\n"
     ]
    }
   ],
   "source": [
    "#Analysis Done on Celebrity Image\n",
    "import json\n",
    "\n",
    "# Specify bucket name and image key name\n",
    "image_name = 'Selena.jpg'\n",
    "bucket_name = 'trail-project'\n",
    "\n",
    "# Invoke rekognition face\n",
    "response = client.detect_faces(Image={'S3Object':{'Bucket':bucket_name, 'Name':image_name}}, Attributes=['ALL'])\n",
    "\n",
    "\n",
    "for record in response['FaceDetails']:\n",
    "    data = record\n",
    "    confidence = face['Face']\n",
    "\n",
    "    print(\"Gender :\",record.get('Gender').get('Value'),\", appears to be {:.2f}\"\"%\"\" \".format(record.get('Gender').get('Confidence')))\n",
    "    \n",
    "    print(\"Age Range :\",record.get('AgeRange').get('Low'),'-',record.get('AgeRange').get('High'),'years old')\n",
    "    \n",
    "    print('Smilling : {:.2f}%'.format(record.get('Smile').get('Confidence')))\n",
    "    \n",
    "    print('Eyeglasses :',record.get('Eyeglasses').get('Value'))\n",
    "    \n",
    "    print('MouthOpen :',record.get('MouthOpen').get('Value'))\n",
    "    \n",
    "    print('EyesOpen :',record.get('EyesOpen').get('Value'))"
   ]
  },
  {
   "cell_type": "markdown",
   "id": "421a5da4",
   "metadata": {},
   "source": [
    "![input](https://github.com/TP1232/AWS_Doorbell_Rekognition/blob/main/img/Selena.jpg?raw=true)"
   ]
  },
  {
   "cell_type": "code",
   "execution_count": 12,
   "id": "c8a72c88",
   "metadata": {},
   "outputs": [],
   "source": [
    "#Comparison Between Peoples of group and Target Images \n",
    "import boto3\n",
    "from pprint import pprint\n",
    "\n",
    "client = boto3.client('rekognition')"
   ]
  },
  {
   "cell_type": "code",
   "execution_count": 13,
   "id": "9be241cb",
   "metadata": {},
   "outputs": [],
   "source": [
    "import boto3\n",
    "\n",
    "\n",
    "def face_comparision(value):\n",
    "    client = boto3.client('rekognition','us-east-1')   #us-east-1 will be the region of your database bucket\n",
    "    response = client.compare_faces(\n",
    "        SourceImage={\n",
    "            'S3Object': {\n",
    "                'Bucket': 'trail-project',                #datacompare will be name of database of s3 bucket\n",
    "                'Name': 'Rdj.jpg'\n",
    "            }\n",
    "        }, \n",
    "        TargetImage={\n",
    "            'S3Object': {\n",
    "                'Bucket': 'trail-project',\n",
    "                'Name': '4_team.jpg'                     #Group of people as a traget Image\n",
    "            }\n",
    "        },SimilarityThreshold=value\n",
    "\n",
    "    )\n",
    "    return (response)"
   ]
  },
  {
   "cell_type": "markdown",
   "id": "e13e0437",
   "metadata": {},
   "source": [
    "Comapring Images between Group of people and Target Source "
   ]
  },
  {
   "cell_type": "markdown",
   "id": "f487e33a",
   "metadata": {},
   "source": [
    "![Input](https://github.com/TP1232/AWS_Doorbell_Rekognition/blob/main/img/assemble.JPG?raw=true)"
   ]
  },
  {
   "cell_type": "code",
   "execution_count": 14,
   "id": "1e42b9ac",
   "metadata": {},
   "outputs": [
    {
     "name": "stdout",
     "output_type": "stream",
     "text": [
      "Matched With 99.99975% Similarity\n",
      "With 99.99659% Confidence\n",
      "Matched\n",
      "Matched With 0.94162% Similarity\n",
      "With 99.99913% Confidence\n",
      "Not a match\n",
      "Matched With 0.92439% Similarity\n",
      "With 99.99341% Confidence\n",
      "Not a match\n",
      "Matched With 0.12956% Similarity\n",
      "With 99.99758% Confidence\n",
      "Not a match\n",
      "\n",
      "4  Out of 1 Persons got matched\n"
     ]
    }
   ],
   "source": [
    "response = face_comparision(90)\n",
    "for record in face_comparision(0)['FaceMatches']:\n",
    "    face = record\n",
    "    confidence = face['Face']\n",
    "\n",
    "    print(\"Matched With {:.5f}\"\"%\"\" Similarity\".format(face['Similarity']))\n",
    "    print(\"With {:.5f}\"\"%\"\" Confidence\".format(confidence['Confidence']))\n",
    "\n",
    "    c = float(format(face['Similarity']))\n",
    "\n",
    "\n",
    "    if(c > 95):{\n",
    "            print(\"Matched\")\n",
    "        }\n",
    "    else:\n",
    "        print(\"Not a match\")\n",
    "match = len(response['FaceMatches'])\n",
    "total_people =  len(response['UnmatchedFaces'])+len(response['FaceMatches'])\n",
    "if (len(response['UnmatchedFaces'])>1):\n",
    "    print()\n",
    "    print(total_people,' Out of',len(response['FaceMatches']),'Persons got matched')"
   ]
  },
  {
   "cell_type": "markdown",
   "id": "2b1a5a80",
   "metadata": {},
   "source": [
    "![Results](https://github.com/TP1232/AWS_Doorbell_Rekognition/blob/main/img/grp_compare.JPG?raw=true)"
   ]
  },
  {
   "cell_type": "code",
   "execution_count": 15,
   "id": "7439c2cb",
   "metadata": {},
   "outputs": [],
   "source": [
    "#Msg format for Email and SMS Notification\n",
    "msg = \"Are you expecting guests?\\n\\nyou have \" + str(total_people)+\" visitors on the door.\\n\"+ str(total_people)+\" Out of \"+str(match)+\" Persons got matched\\n\\n\"+ \"https://trail-project.s3.amazonaws.com/4_team.jpg\""
   ]
  },
  {
   "cell_type": "code",
   "execution_count": 16,
   "id": "44d86632",
   "metadata": {},
   "outputs": [
    {
     "name": "stdout",
     "output_type": "stream",
     "text": [
      "Are you expecting guests?\n",
      "\n",
      "you have 4 visitors on the door.\n",
      "4 Out of 1 Persons got matched\n",
      "\n",
      "https://trail-project.s3.amazonaws.com/4_team.jpg\n"
     ]
    }
   ],
   "source": [
    "print(msg)"
   ]
  },
  {
   "cell_type": "markdown",
   "id": "2dbbcd67",
   "metadata": {},
   "source": [
    "Sending Outputs and Captured Image to our client "
   ]
  },
  {
   "cell_type": "code",
   "execution_count": 17,
   "id": "ebaaccf2",
   "metadata": {},
   "outputs": [],
   "source": [
    "#Initiating SNS Notification service \n",
    "client_sns = boto3.client('sns')"
   ]
  },
  {
   "cell_type": "code",
   "execution_count": null,
   "id": "1714d866",
   "metadata": {},
   "outputs": [],
   "source": [
    "#Sending Email and SMS to Client \n",
    "message = client_sns.publish(TargetArn='arn:aws:sns:us-east-1:923202930002:trail-project',\n",
    "                         Message=msg,\n",
    "                         Subject='Someone at the Door')"
   ]
  },
  {
   "cell_type": "code",
   "execution_count": null,
   "id": "aa5182ca",
   "metadata": {},
   "outputs": [],
   "source": []
  }
 ],
 "metadata": {
  "kernelspec": {
   "display_name": "Python 3",
   "language": "python",
   "name": "python3"
  },
  "language_info": {
   "codemirror_mode": {
    "name": "ipython",
    "version": 3
   },
   "file_extension": ".py",
   "mimetype": "text/x-python",
   "name": "python",
   "nbconvert_exporter": "python",
   "pygments_lexer": "ipython3",
   "version": "3.8.8"
  }
 },
 "nbformat": 4,
 "nbformat_minor": 5
}
